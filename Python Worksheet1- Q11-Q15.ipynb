{
 "cells": [
  {
   "cell_type": "markdown",
   "id": "dcef67a7",
   "metadata": {},
   "source": [
    "# 11. Write a python program to find the factorial of a number."
   ]
  },
  {
   "cell_type": "markdown",
   "id": "65b8310d",
   "metadata": {},
   "source": [
    "Solution:   1. While the solution can be sought using many ways, Im choosing to use the Recursive function method.\n",
    "            2. A simpler method could be employed too, like maybe a simple 'for' loop.\n",
    "            "
   ]
  },
  {
   "cell_type": "code",
   "execution_count": 8,
   "id": "233069bb",
   "metadata": {},
   "outputs": [
    {
     "name": "stdout",
     "output_type": "stream",
     "text": [
      "Hi there! This is a program to find a factorial of a number.\n",
      "\n",
      "Please enter any positive Integer: 3\n",
      "* * * * * * * * * * * * * * * * * * * * * * * * * * * * * * * * \n",
      "There you go! The factorial of 3 is 6 \n",
      " * * * * * * * * * * * * * * * * * * * * * * * * * * * * * * * * \n"
     ]
    }
   ],
   "source": [
    "#assumptions are that the user inputs a non negative integer.\n",
    "n = int(input(\"Hi there! This is a program to find a factorial of a number.\\n\\nPlease enter any positive Integer: \"))\n",
    "print('* '*32)\n",
    "def factl(x):\n",
    "    if x == 1:\n",
    "        return 1\n",
    "    else:\n",
    "        return (x * factl(x-1))\n",
    "print('There you go! The factorial of', n, 'has to be', factl(n),'\\n','* '*32 )"
   ]
  },
  {
   "cell_type": "markdown",
   "id": "4cc9dfb1",
   "metadata": {},
   "source": [
    "# 12. Write a python program to find whether a number is prime or composite"
   ]
  },
  {
   "cell_type": "code",
   "execution_count": 20,
   "id": "7c2488bc",
   "metadata": {},
   "outputs": [
    {
     "name": "stdout",
     "output_type": "stream",
     "text": [
      "Hi there! Let us check if a number is a Prime or Composite number. \n",
      "Enter any Positive Integer: 5\n",
      "\n",
      " * * * * * * * * * * * * * * * * * * * * * * * * * * * * * * * * * * *  \n",
      "Solution: \n",
      "\n",
      "5  is a prime number\n"
     ]
    }
   ],
   "source": [
    "#PrimeOrCompositeNumbers\n",
    "#Using simple loops\n",
    "\n",
    "pocn= int(input('Hi there! Let us check if a number is a Prime or Composite number. \\nEnter any Positive Integer: '))\n",
    "print('\\n','* '*35,'\\nSolution: \\n')\n",
    "if(pocn ==0 or pocn == 1):\n",
    "    printf(pocn,'Number is neither prime nor composite')\n",
    "elif pocn>1 :\n",
    "    for i in range(2,pocn):\n",
    "        if(pocn%i == 0):\n",
    "            print(pocn,' is a Composite')\n",
    "            break\n",
    "    else:\n",
    "        print(pocn,' is a prime number')\n",
    "else :\n",
    "    print(\"ERROR! Negative Numbers cannot be Prime or Composite. \\nTry again with a non negative Number\")"
   ]
  },
  {
   "cell_type": "markdown",
   "id": "b17ff494",
   "metadata": {},
   "source": [
    "# 13. Write a python program to check whether a given string is palindrome or no"
   ]
  },
  {
   "cell_type": "code",
   "execution_count": 24,
   "id": "6128d992",
   "metadata": {},
   "outputs": [
    {
     "name": "stdout",
     "output_type": "stream",
     "text": [
      "Would you aanna know if a word is a Palindrome?! \n",
      "Enter the word: madam\n",
      "It is a Palindrome!\n"
     ]
    }
   ],
   "source": [
    "#to check if palindrome\n",
    " \n",
    "def isPal(s):\n",
    "    return s == s[::-1]\n",
    " \n",
    "s = input('Would you wanna know if a word is a Palindrome?! \\nEnter the word: ')\n",
    "ans = isPal(s)\n",
    "if ans:\n",
    "    print('It is a Palindrome!')\n",
    "else:\n",
    "    print('It aint a Palindrome')"
   ]
  },
  {
   "cell_type": "markdown",
   "id": "c5d8c4d3",
   "metadata": {},
   "source": [
    "# 14. Write a Python program to get the third side of right-angled triangle from two given sides."
   ]
  },
  {
   "cell_type": "code",
   "execution_count": null,
   "id": "037156c6",
   "metadata": {},
   "outputs": [],
   "source": [
    "Solution: 1. Assuming the the two dimensions keyed-in by the user are shorter side of the triangle.\n",
    "          "
   ]
  },
  {
   "cell_type": "code",
   "execution_count": 70,
   "id": "8756e652",
   "metadata": {},
   "outputs": [
    {
     "name": "stdout",
     "output_type": "stream",
     "text": [
      "Enter the two sides of the right angled triangle\n",
      "\n",
      "side1: 3\n",
      "side2: 5\n",
      "let me find the length of the third side!! But first, have you given me \n",
      "\t1: One short side and hypotenuse or \n",
      "\t2. Two short sides?\n",
      "Your choice (1/2)? 1\n",
      "Third side is  4.0\n"
     ]
    }
   ],
   "source": [
    "from math import sqrt\n",
    "print('Enter the two sides of the right angled triangle\\n')\n",
    "side1 = float(input(\"side1: \"))\n",
    "side2 = float(input(\"side2: \"))\n",
    "c1= sqrt(abs(side1**2 - side2**2))\n",
    "c2 = sqrt(side1**2 + side2**2)\n",
    "\n",
    "print('let me find the length of the third side!! But first, have you given me \\n\\t1: One short side and hypotenuse or \\n\\t2. Two short sides?')\n",
    "ch= int(input('Your choice (1/2)? '))\n",
    "if ch==1:\n",
    "    print('Third side is ',c1)\n",
    "elif ch==2:\n",
    "    print('Hypotenuse is ',c2)\n",
    "else: print('Error!! Invalid Choice, Re-try!!')\n",
    "\n",
    "\n",
    "    "
   ]
  },
  {
   "cell_type": "markdown",
   "id": "d9c2a6e5",
   "metadata": {},
   "source": [
    "# 15. Write a python program to print the frequency of each of the characters present in a given string."
   ]
  },
  {
   "cell_type": "markdown",
   "id": "13c9addd",
   "metadata": {},
   "source": [
    "Solution: 1.Using simple method.\n",
    "          2. Case senistivity can be removed by converting user given string to upper or lower case so that redendancy is removed."
   ]
  },
  {
   "cell_type": "code",
   "execution_count": 73,
   "id": "6f1e3ecc",
   "metadata": {},
   "outputs": [
    {
     "name": "stdout",
     "output_type": "stream",
     "text": [
      "Enter a sample string: glenn nigel ebenezer\n",
      "Count of all characters in given sample string is \n",
      " {'g': 2, 'l': 2, 'e': 6, 'n': 4, ' ': 2, 'i': 1, 'b': 1, 'z': 1, 'r': 1}\n"
     ]
    }
   ],
   "source": [
    "user_str = str(input('Enter a sample case sensitive string: '))\n",
    "\n",
    "#initialising empty dictionary \n",
    "freq_str = {}\n",
    "  \n",
    "for i in user_str:\n",
    "    if i in freq_str:\n",
    "        freq_str[i] += 1\n",
    "    else:\n",
    "        freq_str[i] = 1\n",
    "print ('Count of all characters in given sample string is \\n', freq_str)"
   ]
  }
 ],
 "metadata": {
  "kernelspec": {
   "display_name": "Python 3 (ipykernel)",
   "language": "python",
   "name": "python3"
  },
  "language_info": {
   "codemirror_mode": {
    "name": "ipython",
    "version": 3
   },
   "file_extension": ".py",
   "mimetype": "text/x-python",
   "name": "python",
   "nbconvert_exporter": "python",
   "pygments_lexer": "ipython3",
   "version": "3.9.7"
  }
 },
 "nbformat": 4,
 "nbformat_minor": 5
}
